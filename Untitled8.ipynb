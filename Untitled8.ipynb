{
  "nbformat": 4,
  "nbformat_minor": 0,
  "metadata": {
    "colab": {
      "provenance": [],
      "authorship_tag": "ABX9TyM5HyT+ZbiV73y9ICGwJivh",
      "include_colab_link": true
    },
    "kernelspec": {
      "name": "python3",
      "display_name": "Python 3"
    },
    "language_info": {
      "name": "python"
    }
  },
  "cells": [
    {
      "cell_type": "markdown",
      "metadata": {
        "id": "view-in-github",
        "colab_type": "text"
      },
      "source": [
        "<a href=\"https://colab.research.google.com/github/mouriya1111/weather-project/blob/main/Untitled8.ipynb\" target=\"_parent\"><img src=\"https://colab.research.google.com/assets/colab-badge.svg\" alt=\"Open In Colab\"/></a>"
      ]
    },
    {
      "cell_type": "code",
      "execution_count": 1,
      "metadata": {
        "colab": {
          "base_uri": "https://localhost:8080/"
        },
        "id": "YVXVYZqKtMU3",
        "outputId": "28851f01-24e6-4e21-ebf7-ef1568bea617"
      },
      "outputs": [
        {
          "output_type": "stream",
          "name": "stdout",
          "text": [
            "Temperature: 30°C\n",
            "Humidity: 70%\n",
            "Wind Speed: 10 km/h\n",
            "TW: 422.0\n",
            "Weather Condition: Sunny\n"
          ]
        }
      ],
      "source": [
        "# Classify weather based on TW value\n",
        "def classify_weather(tw):\n",
        "    if tw > 350:\n",
        "        return \"Sunny\"\n",
        "    elif 250 < tw <= 350:\n",
        "        return \"Cloudy\"\n",
        "    elif 150 < tw <= 250:\n",
        "        return \"Rainy\"\n",
        "    else:\n",
        "        return \"Stormy\"\n",
        "\n",
        "# Function to calculate TW\n",
        "def calculate_tw(temp, humidity, wind_speed):\n",
        "    return (0.5 * temp**2) - (0.2 * humidity) + (0.1 * wind_speed) - 15\n",
        "\n",
        "# Hardcoded values\n",
        "temperature = 30  # Example: degrees Celsius\n",
        "humidity = 70     # Example: percentage\n",
        "wind_speed = 10   # Example: km/h\n",
        "\n",
        "# Calculate TW and classify\n",
        "tw = calculate_tw(temperature, humidity, wind_speed)\n",
        "weather = classify_weather(tw)\n",
        "\n",
        "# Output results\n",
        "print(f\"Temperature: {temperature}°C\")\n",
        "print(f\"Humidity: {humidity}%\")\n",
        "print(f\"Wind Speed: {wind_speed} km/h\")\n",
        "print(f\"TW: {tw}\")\n",
        "print(f\"Weather Condition: {weather}\")\n"
      ]
    }
  ]
}