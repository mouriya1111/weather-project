{
  "nbformat": 4,
  "nbformat_minor": 0,
  "metadata": {
    "colab": {
      "provenance": [],
      "include_colab_link": true
    },
    "kernelspec": {
      "name": "python3",
      "display_name": "Python 3"
    },
    "language_info": {
      "name": "python"
    }
  },
  "cells": [
    {
      "cell_type": "markdown",
      "metadata": {
        "id": "view-in-github",
        "colab_type": "text"
      },
      "source": [
        "<a href=\"https://colab.research.google.com/github/mouriya1111/weather-project/blob/main/weather.ipynb\" target=\"_parent\"><img src=\"https://colab.research.google.com/assets/colab-badge.svg\" alt=\"Open In Colab\"/></a>"
      ]
    },
    {
      "cell_type": "code",
      "execution_count": 6,
      "metadata": {
        "id": "6ccM0IMSrAGh",
        "colab": {
          "base_uri": "https://localhost:8080/"
        },
        "outputId": "9c2e5373-cc3b-4a8b-8ca1-e63f9bf87f69"
      },
      "outputs": [
        {
          "output_type": "stream",
          "name": "stdout",
          "text": [
            "Do you want to enter your own data or get data from the existing file? Press 0 for your own data, press 1 for existing data:\n",
            "0\n",
            "Enter temperature: 34\n",
            "Enter humidity: 44\n",
            "Enter wind speed: 9000\n",
            "The day was: Sunny\n",
            "Do you want to save this data? Press 1 for Yes, 0 for No: 1\n",
            "Enter date (YYYY-MM-DD): 2017-04-13\n",
            "Data saved successfully.\n"
          ]
        }
      ],
      "source": [
        "import pandas as pd\n",
        "import numpy as np\n",
        "from openpyxl import load_workbook\n",
        "\n",
        "# Classify weather based on TW value\n",
        "def classify_weather(tw):\n",
        "    if tw > 350:\n",
        "        return \"Sunny\"\n",
        "    elif 250 < tw <= 350:\n",
        "        return \"Cloudy\"\n",
        "    elif 150 < tw <= 250:\n",
        "        return \"Rainy\"\n",
        "    else:\n",
        "        return \"Stormy\"\n",
        "\n",
        "# Load data from the Excel file\n",
        "data = pd.read_excel('weather-data.xlsx')\n",
        "\n",
        "# Ensure all required columns are present\n",
        "required_columns = [\"Date\", \"Temperature\", \"Humidity\", \"Wind Speed\"]\n",
        "if not all(col in data.columns for col in required_columns):\n",
        "    raise ValueError(f\"Input file must contain the following columns: {', '.join(required_columns)}\")\n",
        "\n",
        "# Process weather data\n",
        "weather_data = []\n",
        "for _, row in data.iterrows():\n",
        "    try:\n",
        "        date = pd.to_datetime(row[\"Date\"]).strftime('%Y-%m-%d')\n",
        "        temp = row[\"Temperature\"]\n",
        "        humidity = row[\"Humidity\"]\n",
        "        wind_speed = row[\"Wind Speed\"]\n",
        "\n",
        "        # Calculate TW\n",
        "        tw = (0.5 * temp**2) - (0.2 * humidity) + (0.1 * wind_speed) - 15\n",
        "        weather_data.append([date, tw])\n",
        "    except KeyError:\n",
        "        continue\n",
        "\n",
        "# Prompt user choice\n",
        "print(\"Do you want to enter your own data or get data from the existing file? Press 0 for your own data, press 1 for existing data:\")\n",
        "choice = int(input())\n",
        "\n",
        "if choice == 0:\n",
        "    # Input new data\n",
        "    temp = int(input(\"Enter temperature: \"))\n",
        "    humidity = int(input(\"Enter humidity: \"))\n",
        "    wind_speed = int(input(\"Enter wind speed: \"))\n",
        "\n",
        "    tw = (0.5 * temp**2) - (0.2 * humidity) + (0.1 * wind_speed) - 15\n",
        "    weather_condition = classify_weather(tw)\n",
        "    print(f\"The day was: {weather_condition}\")\n",
        "\n",
        "    # Option to save the data\n",
        "    save_choice = int(input(\"Do you want to save this data? Press 1 for Yes, 0 for No: \"))\n",
        "    if save_choice == 1:\n",
        "        date = input(\"Enter date (YYYY-MM-DD): \")\n",
        "\n",
        "        # Load workbook for writing\n",
        "        wb = load_workbook(\"new-weather-data.xlsx\")\n",
        "        sheet = wb.active\n",
        "        sheet.append([date, temp, humidity, wind_speed, tw, weather_condition])\n",
        "        wb.save(\"new-weather-data.xlsx\")\n",
        "        print(\"Data saved successfully.\")\n",
        "else:\n",
        "    # Retrieve data based on date\n",
        "    date = input(\"Enter date (YYYY-MM-DD): \")\n",
        "    for row in weather_data:\n",
        "        if row[0] == date:\n",
        "            weather_condition = classify_weather(row[1])\n",
        "            print(f\"The day was: {weather_condition}\")\n",
        "            break\n",
        "    else:\n",
        "        print(\"No data found.\")\n"
      ]
    }
  ]
}