{
  "nbformat": 4,
  "nbformat_minor": 0,
  "metadata": {
    "colab": {
      "provenance": [],
      "authorship_tag": "ABX9TyNWD4puQnKJbXuRBPh2D0Nh",
      "include_colab_link": true
    },
    "kernelspec": {
      "name": "python3",
      "display_name": "Python 3"
    },
    "language_info": {
      "name": "python"
    }
  },
  "cells": [
    {
      "cell_type": "markdown",
      "metadata": {
        "id": "view-in-github",
        "colab_type": "text"
      },
      "source": [
        "<a href=\"https://colab.research.google.com/github/mouriya1111/weather-project/blob/main/multiple_input.ipynb\" target=\"_parent\"><img src=\"https://colab.research.google.com/assets/colab-badge.svg\" alt=\"Open In Colab\"/></a>"
      ]
    },
    {
      "cell_type": "code",
      "execution_count": 3,
      "metadata": {
        "colab": {
          "base_uri": "https://localhost:8080/"
        },
        "id": "VAavgv6XpvU_",
        "outputId": "3fb3daab-77fc-41ce-e81e-644f12f3d61a"
      },
      "outputs": [
        {
          "output_type": "stream",
          "name": "stdout",
          "text": [
            "Do you want to enter multiple data points or retrieve data from a file?\n",
            "Press 0 for entering multiple data points, press 1 to retrieve data from an existing file:\n",
            "0\n",
            "Enter date (YYYY-MM-DD): 2024-12-10\n",
            "Enter temperature: 45\n",
            "Enter humidity: 10\n",
            "Enter wind speed: 30\n",
            "Do you want to add another entry? (yes/no): yes\n",
            "Enter date (YYYY-MM-DD): 2024-12-11\n",
            "Enter temperature: 12\n",
            "Enter humidity: 30\n",
            "Enter wind speed: 80\n",
            "Do you want to add another entry? (yes/no): no\n",
            "Data saved successfully to weather-data-multiple.xlsx.\n"
          ]
        }
      ],
      "source": [
        "import pandas as pd\n",
        "import numpy as np\n",
        "from openpyxl import Workbook\n",
        "\n",
        "# Classify weather based on TW value\n",
        "def classify_weather(tw):\n",
        "    if tw > 350:\n",
        "        return \"Sunny\"\n",
        "    elif 250 < tw <= 350:\n",
        "        return \"Cloudy\"\n",
        "    elif 150 < tw <= 250:\n",
        "        return \"Rainy\"\n",
        "    else:\n",
        "        return \"Stormy\"\n",
        "\n",
        "# Function to calculate TW\n",
        "def calculate_tw(temp, humidity, wind_speed):\n",
        "    return (0.5 * temp**2) - (0.2 * humidity) + (0.1 * wind_speed) - 15\n",
        "\n",
        "# Save data to an Excel file\n",
        "def save_multiple_to_excel(file_path, data):\n",
        "    try:\n",
        "        wb = Workbook()\n",
        "        sheet = wb.active\n",
        "        # Add header row\n",
        "        sheet.append([\"Date\", \"Temperature\", \"Humidity\", \"Wind Speed\", \"TW\", \"Weather Condition\"])\n",
        "        # Add data rows\n",
        "        for entry in data:\n",
        "            sheet.append(entry)\n",
        "        wb.save(file_path)\n",
        "        print(f\"Data saved successfully to {file_path}.\")\n",
        "    except Exception as e:\n",
        "        print(f\"Error saving to Excel: {e}\")\n",
        "\n",
        "# Main program\n",
        "def main():\n",
        "    print(\"Do you want to enter multiple data points or retrieve data from a file?\\nPress 0 for entering multiple data points, press 1 to retrieve data from an existing file:\")\n",
        "    try:\n",
        "        choice = int(input())\n",
        "    except ValueError:\n",
        "        print(\"Invalid input. Please enter 0 or 1.\")\n",
        "        return\n",
        "\n",
        "    if choice == 0:\n",
        "        # Input multiple data points\n",
        "        weather_data = []\n",
        "        while True:\n",
        "            try:\n",
        "                date = input(\"Enter date (YYYY-MM-DD): \")\n",
        "                temp = float(input(\"Enter temperature: \"))\n",
        "                humidity = float(input(\"Enter humidity: \"))\n",
        "                wind_speed = float(input(\"Enter wind speed: \"))\n",
        "\n",
        "                tw = calculate_tw(temp, humidity, wind_speed)\n",
        "                weather_condition = classify_weather(tw)\n",
        "\n",
        "                weather_data.append([date, temp, humidity, wind_speed, tw, weather_condition])\n",
        "\n",
        "                another = input(\"Do you want to add another entry? (yes/no): \").strip().lower()\n",
        "                if another != 'yes':\n",
        "                    break\n",
        "            except ValueError:\n",
        "                print(\"Invalid input. Please enter the correct values.\")\n",
        "\n",
        "        # Save to Excel\n",
        "        output_file = \"weather-data-multiple.xlsx\"\n",
        "        save_multiple_to_excel(output_file, weather_data)\n",
        "\n",
        "    elif choice == 1:\n",
        "        # Load existing data from a file\n",
        "        input_file = input(\"Enter the file name (e.g., weather-data.xlsx): \")\n",
        "        try:\n",
        "            data = pd.read_excel(input_file)\n",
        "            required_columns = [\"Date\", \"Temperature\", \"Humidity\", \"Wind Speed\"]\n",
        "            if not all(col in data.columns for col in required_columns):\n",
        "                raise ValueError(f\"The file must contain the following columns: {', '.join(required_columns)}\")\n",
        "\n",
        "            print(data)\n",
        "        except Exception as e:\n",
        "            print(f\"Error loading file: {e}\")\n",
        "    else:\n",
        "        print(\"Invalid choice. Please enter 0 or 1.\")\n",
        "\n",
        "if __name__ == \"__main__\":\n",
        "    main()\n"
      ]
    }
  ]
}